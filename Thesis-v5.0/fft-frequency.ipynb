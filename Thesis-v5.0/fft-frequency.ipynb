{
 "cells": [
  {
   "cell_type": "markdown",
   "metadata": {
    "id": "20dtxMl7TbDa"
   },
   "source": [
    "<a href=\"https://colab.research.google.com/github/jeffheaton/present/blob/master/youtube/video/fft-frequency.ipynb\" target=\"_parent\"><img src=\"https://colab.research.google.com/assets/colab-badge.svg\" alt=\"Open In Colab\"/></a>\n",
    "\n",
    "Copyright 2022 by [Jeff Heaton](https://www.heatonresearch.com/), released under [LGPLv3](https://www.gnu.org/licenses/lgpl-3.0.en.html)\n",
    "\n",
    "[YouTube video about this code](https://www.youtube.com/watch?v=rj9NOiFLxWA)"
   ]
  },
  {
   "cell_type": "code",
   "execution_count": null,
   "metadata": {
    "colab": {
     "base_uri": "https://localhost:8080/"
    },
    "id": "jQI4U7A1h34o",
    "outputId": "ed7d147f-4eaf-4cda-ca82-0fe6c48c1f01"
   },
   "outputs": [],
   "source": [
    "# try:\n",
    "#     from google.colab import drive\n",
    "#     drive.mount('/content/drive', force_remount=True)\n",
    "#     COLAB = True\n",
    "#     print(\"Note: using Google CoLab\")\n",
    "# except:\n",
    "#     print(\"Note: not using Google CoLab\")\n",
    "COLAB = False\n",
    "\n",
    "PATH = './'\n",
    "\n",
    "# !pip install -U kaleido\n",
    "\n",
    "# Configuration\n",
    "FPS = 30\n",
    "FFT_WINDOW_SECONDS = 0.25 # how many seconds of audio make up an FFT window\n",
    "\n",
    "# Note range to display\n",
    "FREQ_MIN = 10\n",
    "FREQ_MAX = 1000\n",
    "\n",
    "# Notes to display\n",
    "TOP_NOTES = 3\n",
    "\n",
    "# Names of the notes\n",
    "NOTE_NAMES = [\"C\", \"C#\", \"D\", \"D#\", \"E\", \"F\", \"F#\", \"G\", \"G#\", \"A\", \"A#\", \"B\"]\n",
    "\n",
    "# Output size. Generally use SCALE for higher res, unless you need a non-standard aspect ratio.\n",
    "RESOLUTION = (1920, 1080)\n",
    "SCALE = 2 # 0.5=QHD(960x540), 1=HD(1920x1080), 2=4K(3840x2160)"
   ]
  },
  {
   "cell_type": "code",
   "execution_count": null,
   "metadata": {
    "colab": {
     "base_uri": "https://localhost:8080/"
    },
    "id": "9eOd8Tm-jIW5",
    "outputId": "35c9b414-3e56-46fd-db62-79712144f834"
   },
   "outputs": [],
   "source": [
    "import matplotlib.pyplot as plt\n",
    "from scipy.fftpack import fft\n",
    "from scipy.io import wavfile # get the api\n",
    "import os\n",
    "\n",
    "# Get a WAV file from GDrive, such as:\n",
    "# AUDIO_FILE = os.path.join(PATH,'short_popcorn.wav')\n",
    "\n",
    "# Or download my sample audio\n",
    "# !wget https://github.com/jeffheaton/present/raw/master/youtube/video/sample_audio/piano_c_major_scale.wav\n",
    "# AUDIO_FILE = \"youtube_video_sample_audio_piano_c_major_scale.wav\"\n",
    "AUDIO_FILE = \"Schubert_audio.wav\"\n",
    "\n",
    "fs, data = wavfile.read(os.path.join(PATH,AUDIO_FILE)) # load the data\n",
    "audio = data.T[0] # this is a two channel soundtrack, get the first track\n",
    "FRAME_STEP = (fs / FPS) # audio samples per video frame\n",
    "FFT_WINDOW_SIZE = int(fs * FFT_WINDOW_SECONDS)\n",
    "AUDIO_LENGTH = len(audio)/fs"
   ]
  },
  {
   "cell_type": "markdown",
   "metadata": {
    "id": "gqxOflIuM_eT"
   },
   "source": [
    "Several utility functions."
   ]
  },
  {
   "cell_type": "code",
   "execution_count": null,
   "metadata": {
    "id": "yg2kx9olG3ib"
   },
   "outputs": [],
   "source": [
    "import plotly.graph_objects as go\n",
    "\n",
    "def plot_fft(p, xf, fs, notes, dimensions=(960,540)):\n",
    "  layout = go.Layout(\n",
    "      title=\"frequency spectrum\",\n",
    "      autosize=False,\n",
    "      width=dimensions[0],\n",
    "      height=dimensions[1],\n",
    "      xaxis_title=\"Frequency (note)\",\n",
    "      yaxis_title=\"Magnitude\",\n",
    "      font={'size' : 24}\n",
    "  )\n",
    "\n",
    "  fig = go.Figure(layout=layout,\n",
    "                  layout_xaxis_range=[FREQ_MIN,FREQ_MAX],\n",
    "                  layout_yaxis_range=[0,1]\n",
    "                  )\n",
    "  \n",
    "  fig.add_trace(go.Scatter(\n",
    "      x = xf,\n",
    "      y = p))\n",
    "  \n",
    "  for note in notes:\n",
    "    fig.add_annotation(x=note[0]+10, y=note[2],\n",
    "            text=note[1],\n",
    "            font = {'size' : 48},\n",
    "            showarrow=False)\n",
    "  return fig\n",
    "\n",
    "def extract_sample(audio, frame_number):\n",
    "  end = frame_number * FRAME_OFFSET\n",
    "  begin = int(end - FFT_WINDOW_SIZE)\n",
    "\n",
    "  if end == 0:\n",
    "    # We have no audio yet, return all zeros (very beginning)\n",
    "    return np.zeros((np.abs(begin)),dtype=float)\n",
    "  elif begin<0:\n",
    "    # We have some audio, padd with zeros\n",
    "    return np.concatenate([np.zeros((np.abs(begin)),dtype=float),audio[0:end]])\n",
    "  else:\n",
    "    # Usually this happens, return the next sample\n",
    "    return audio[begin:end]\n",
    "\n",
    "def find_top_notes(fft,num):\n",
    "  if np.max(fft.real)<0.001:\n",
    "    return []\n",
    "\n",
    "  lst = [x for x in enumerate(fft.real)]\n",
    "  lst = sorted(lst, key=lambda x: x[1],reverse=True)\n",
    "\n",
    "  idx = 0\n",
    "  found = []\n",
    "  found_note = set()\n",
    "  while( (idx<len(lst)) and (len(found)<num) ):\n",
    "    f = xf[lst[idx][0]]\n",
    "    y = lst[idx][1]\n",
    "    n = freq_to_number(f)\n",
    "    n0 = int(round(n))\n",
    "    name = note_name(n0)\n",
    "\n",
    "    if name not in found_note:\n",
    "      found_note.add(name)\n",
    "      s = [f,note_name(n0),y]\n",
    "      found.append(s)\n",
    "    idx += 1\n",
    "    \n",
    "  return found"
   ]
  },
  {
   "cell_type": "markdown",
   "metadata": {
    "id": "t98k4AMRHy-o"
   },
   "source": [
    "Run the FFT on individual samples of the audio and generate video frames of the frequency chart."
   ]
  },
  {
   "cell_type": "code",
   "execution_count": null,
   "metadata": {
    "colab": {
     "base_uri": "https://localhost:8080/"
    },
    "id": "i7OinuERiRak",
    "outputId": "35b808a3-c53c-4463-9e41-ac14dfc3ffc6"
   },
   "outputs": [],
   "source": [
    "import numpy as np\n",
    "import tqdm\n",
    "\n",
    "# !rm /content/*.png\n",
    "\n",
    "# See https://newt.phys.unsw.edu.au/jw/notes.html\n",
    "def freq_to_number(f): return 69 + 12*np.log2(f/440.0)\n",
    "def number_to_freq(n): return 440 * 2.0**((n-69)/12.0)\n",
    "def note_name(n): return NOTE_NAMES[n % 12] + str(int(n/12 - 1))\n",
    "\n",
    "# Hanning window function\n",
    "window = 0.5 * (1 - np.cos(np.linspace(0, 2*np.pi, FFT_WINDOW_SIZE, False)))\n",
    "\n",
    "xf = np.fft.rfftfreq(FFT_WINDOW_SIZE, 1/fs)\n",
    "FRAME_COUNT = int(AUDIO_LENGTH*FPS)\n",
    "FRAME_OFFSET = int(len(audio)/FRAME_COUNT)\n",
    "\n",
    "# Pass 1, find out the maximum amplitude so we can scale.\n",
    "mx = 0\n",
    "for frame_number in range(FRAME_COUNT):\n",
    "  sample = extract_sample(audio, frame_number)\n",
    "\n",
    "  fft = np.fft.rfft(sample * window)\n",
    "  fft = np.abs(fft).real \n",
    "  mx = max(np.max(fft),mx)\n",
    "\n",
    "print(f\"Max amplitude: {mx}\")\n",
    "\n",
    "# Pass 2, produce the animation\n",
    "number_to_digit = len(str(FRAME_COUNT))\n",
    "for frame_number in tqdm.tqdm(range(FRAME_COUNT)):\n",
    "  sample = extract_sample(audio, frame_number)\n",
    "\n",
    "  fft = np.fft.rfft(sample * window)\n",
    "  fft = np.abs(fft) / mx \n",
    "     \n",
    "  s = find_top_notes(fft,TOP_NOTES)\n",
    "\n",
    "  fig = plot_fft(fft.real,xf,fs,s,RESOLUTION)\n",
    "  frame_text = str(frame_number).zfill(number_to_digit)\n",
    "  fig.write_image(f\"./content/frame{frame_text}.png\",scale=2)\n"
   ]
  },
  {
   "cell_type": "markdown",
   "metadata": {
    "id": "1vo01yEzHeSu"
   },
   "source": [
    "Use [ffmpeg](https://ffmpeg.org/) to combine the input audio WAV and the individual frame images into a MP4 video."
   ]
  },
  {
   "cell_type": "code",
   "execution_count": 67,
   "metadata": {},
   "outputs": [
    {
     "data": {
      "text/plain": [
       "0"
      ]
     },
     "execution_count": 67,
     "metadata": {},
     "output_type": "execute_result"
    }
   ],
   "source": [
    "import subprocess\n",
    "FPS = 30\n",
    "AUDIO_FILE = \"youtube_video_sample_audio_piano_c_major_scale.wav\"\n",
    "number_to_digit = len(str(FRAME_COUNT))\n",
    "FRAME_FILE = f\"./content/frame%0{number_to_digit}d.png\"\n",
    "OUTPUT_FILE = \"fft_movie/out_Schubert.mp4\"\n",
    "\n",
    "command = f\"ffmpeg -y -r {FPS} -f image2 -start_number 0 -s 1920x1080 -i {FRAME_FILE} -i {AUDIO_FILE} -c:v libx264 -pix_fmt yuv420p {OUTPUT_FILE}\"\n",
    "# print(command)\n",
    "subprocess.call(command)"
   ]
  },
  {
   "cell_type": "code",
   "execution_count": 58,
   "metadata": {
    "colab": {
     "base_uri": "https://localhost:8080/"
    },
    "id": "LzPw9WT-Lfmy",
    "outputId": "902b4759-c184-44e5-c009-a7f8b15f6ea5"
   },
   "outputs": [
    {
     "name": "stderr",
     "output_type": "stream",
     "text": [
      "ffmpeg version 5.1.2 Copyright (c) 2000-2022 the FFmpeg developers\n",
      "  built with clang version 17.0.1\n",
      "  configuration: --prefix=/d/bld/ffmpeg_1696213838503/_h_env/Library --cc=clang.exe --cxx=clang++.exe --nm=llvm-nm --ar=llvm-ar --disable-doc --disable-openssl --enable-demuxer=dash --enable-hardcoded-tables --enable-libfreetype --enable-libfontconfig --enable-libopenh264 --enable-libdav1d --ld=lld-link --target-os=win64 --enable-cross-compile --toolchain=msvc --host-cc=clang.exe --extra-libs=ucrt.lib --extra-libs=vcruntime.lib --extra-libs=oldnames.lib --strip=llvm-strip --disable-stripping --host-extralibs= --enable-gpl --enable-libx264 --enable-libx265 --enable-libaom --enable-libsvtav1 --enable-libxml2 --enable-pic --enable-shared --disable-static --enable-version3 --enable-zlib --enable-libopus --pkg-config=/d/bld/ffmpeg_1696213838503/_build_env/Library/bin/pkg-config\n",
      "  libavutil      57. 28.100 / 57. 28.100\n",
      "  libavcodec     59. 37.100 / 59. 37.100\n",
      "  libavformat    59. 27.100 / 59. 27.100\n",
      "  libavdevice    59.  7.100 / 59.  7.100\n",
      "  libavfilter     8. 44.100 /  8. 44.100\n",
      "  libswscale      6.  7.100 /  6.  7.100\n",
      "  libswresample   4.  7.100 /  4.  7.100\n",
      "  libpostproc    56.  6.100 / 56.  6.100\n",
      "Input #0, image2, from './content/frame%03d.png':\n",
      "  Duration: 00:00:13.93, start: 0.000000, bitrate: N/A\n",
      "  Stream #0:0: Video: png, rgba(pc), 3840x2160, 30 fps, 30 tbr, 30 tbn\n",
      "Guessed Channel Layout for Input Stream #1.0 : stereo\n",
      "Input #1, wav, from 'youtube_video_sample_audio_piano_c_major_scale.wav':\n",
      "  Metadata:\n",
      "    date            : 2022-11-26T04:54:57Z\n",
      "  Duration: 00:00:13.93, bitrate: 2825 kb/s\n",
      "  Stream #1:0: Audio: pcm_f32le ([3][0][0][0] / 0x0003), 44100 Hz, stereo, flt, 2822 kb/s\n",
      "Stream mapping:\n",
      "  Stream #0:0 -> #0:0 (png (native) -> h264 (libx264))\n",
      "  Stream #1:0 -> #0:1 (pcm_f32le (native) -> aac (native))\n",
      "Press [q] to stop, [?] for help\n",
      "[image2 @ 000002ABC896ED40] Thread message queue blocking; consider raising the thread_queue_size option (current value: 8)\n",
      "[libx264 @ 000002ABC8A05380] using cpu capabilities: MMX2 SSE2Fast SSSE3 SSE4.2 AVX FMA3 BMI2 AVX2\n",
      "[libx264 @ 000002ABC8A05380] profile High, level 5.1, 4:2:0, 8-bit\n",
      "[libx264 @ 000002ABC8A05380] 264 - core 164 r3095 baee400 - H.264/MPEG-4 AVC codec - Copyleft 2003-2022 - http://www.videolan.org/x264.html - options: cabac=1 ref=3 deblock=1:0:0 analyse=0x3:0x113 me=hex subme=7 psy=1 psy_rd=1.00:0.00 mixed_ref=1 me_range=16 chroma_me=1 trellis=1 8x8dct=1 cqm=0 deadzone=21,11 fast_pskip=1 chroma_qp_offset=-2 threads=12 lookahead_threads=2 sliced_threads=0 nr=0 decimate=1 interlaced=0 bluray_compat=0 constrained_intra=0 bframes=3 b_pyramid=2 b_adapt=1 b_bias=0 direct=1 weightb=1 open_gop=0 weightp=2 keyint=250 keyint_min=25 scenecut=40 intra_refresh=0 rc_lookahead=40 rc=crf mbtree=1 crf=23.0 qcomp=0.60 qpmin=0 qpmax=69 qpstep=4 ip_ratio=1.40 aq=1:1.00\n",
      "Output #0, mp4, to 'out_movie.mp4':\n",
      "  Metadata:\n",
      "    encoder         : Lavf59.27.100\n",
      "  Stream #0:0: Video: h264 (avc1 / 0x31637661), yuv420p(tv, progressive), 3840x2160, q=2-31, 30 fps, 15360 tbn\n",
      "    Metadata:\n",
      "      encoder         : Lavc59.37.100 libx264\n",
      "    Side data:\n",
      "      cpb: bitrate max/min/avg: 0/0/0 buffer size: 0 vbv_delay: N/A\n",
      "  Stream #0:1: Audio: aac (LC) (mp4a / 0x6134706D), 44100 Hz, stereo, fltp, 128 kb/s\n",
      "    Metadata:\n",
      "      encoder         : Lavc59.37.100 aac\n",
      "frame=    1 fps=0.0 q=0.0 size=       0kB time=00:00:00.00 bitrate=N/A speed=   0x    \n",
      "frame=   22 fps=0.0 q=0.0 size=       0kB time=00:00:00.00 bitrate=N/A speed=   0x    \n",
      "frame=   45 fps= 32 q=0.0 size=       0kB time=00:00:00.00 bitrate=N/A speed=   0x    \n",
      "frame=   47 fps= 20 q=0.0 size=       0kB time=00:00:00.00 bitrate=N/A speed=   0x    \n",
      "frame=   59 fps= 21 q=29.0 size=       0kB time=00:00:00.00 bitrate=5907.7kbits/s speed=2.31e-05x    \n",
      "frame=   70 fps= 21 q=29.0 size=       0kB time=00:00:00.37 bitrate=   1.0kbits/s speed=0.111x    \n",
      "frame=   83 fps= 21 q=29.0 size=       0kB time=00:00:00.81 bitrate=   0.5kbits/s speed=0.21x    \n",
      "frame=   94 fps= 21 q=29.0 size=       0kB time=00:00:01.16 bitrate=   0.3kbits/s speed=0.267x    \n",
      "frame=  108 fps= 22 q=29.0 size=       0kB time=00:00:01.63 bitrate=   0.2kbits/s speed=0.333x    \n",
      "frame=  118 fps= 22 q=29.0 size=     256kB time=00:00:01.97 bitrate=1062.7kbits/s speed=0.365x    \n",
      "frame=  129 fps= 22 q=29.0 size=     256kB time=00:00:02.34 bitrate= 894.4kbits/s speed=0.396x    \n",
      "frame=  139 fps= 22 q=29.0 size=     256kB time=00:00:02.67 bitrate= 785.5kbits/s speed=0.415x    \n",
      "frame=  147 fps= 21 q=29.0 size=     256kB time=00:00:02.93 bitrate= 715.1kbits/s speed=0.423x    \n",
      "frame=  160 fps= 22 q=29.0 size=     256kB time=00:00:03.36 bitrate= 623.0kbits/s speed=0.453x    \n",
      "frame=  170 fps= 21 q=29.0 size=     256kB time=00:00:03.70 bitrate= 566.9kbits/s speed=0.466x    \n",
      "frame=  181 fps= 21 q=29.0 size=     512kB time=00:00:04.06 bitrate=1031.5kbits/s speed=0.481x    \n",
      "frame=  192 fps= 21 q=29.0 size=     512kB time=00:00:04.43 bitrate= 945.8kbits/s speed=0.495x    \n",
      "frame=  204 fps= 22 q=29.0 size=     512kB time=00:00:04.83 bitrate= 867.9kbits/s speed=0.51x    \n",
      "frame=  216 fps= 22 q=29.0 size=     512kB time=00:00:05.23 bitrate= 801.5kbits/s speed=0.524x    \n",
      "frame=  226 fps= 21 q=29.0 size=     512kB time=00:00:05.57 bitrate= 752.7kbits/s speed=0.53x    \n",
      "frame=  237 fps= 21 q=29.0 size=     512kB time=00:00:05.94 bitrate= 705.7kbits/s speed=0.539x    \n",
      "frame=  249 fps= 22 q=29.0 size=     512kB time=00:00:06.33 bitrate= 661.7kbits/s speed=0.549x    \n",
      "frame=  261 fps= 22 q=29.0 size=     768kB time=00:00:06.73 bitrate= 934.4kbits/s speed=0.556x    \n",
      "frame=  275 fps= 22 q=29.0 size=     768kB time=00:00:07.20 bitrate= 873.9kbits/s speed=0.569x    \n",
      "frame=  284 fps= 22 q=29.0 size=     768kB time=00:00:07.50 bitrate= 838.9kbits/s speed=0.57x    \n",
      "frame=  292 fps= 21 q=29.0 size=     768kB time=00:00:07.77 bitrate= 808.9kbits/s speed=0.568x    \n",
      "frame=  301 fps= 21 q=29.0 size=     768kB time=00:00:08.06 bitrate= 780.0kbits/s speed=0.568x    \n",
      "frame=  313 fps= 21 q=29.0 size=     768kB time=00:00:08.47 bitrate= 742.4kbits/s speed=0.576x    \n",
      "frame=  324 fps= 21 q=29.0 size=    1024kB time=00:00:08.84 bitrate= 948.3kbits/s speed=0.582x    \n",
      "frame=  336 fps= 21 q=29.0 size=    1024kB time=00:00:09.24 bitrate= 907.7kbits/s speed=0.587x    \n",
      "frame=  349 fps= 21 q=29.0 size=    1024kB time=00:00:09.66 bitrate= 867.8kbits/s speed=0.595x    \n",
      "frame=  362 fps= 22 q=29.0 size=    1024kB time=00:00:10.10 bitrate= 830.5kbits/s speed= 0.6x    \n",
      "frame=  377 fps= 22 q=29.0 size=    1024kB time=00:00:10.61 bitrate= 790.6kbits/s speed=0.61x    \n",
      "frame=  391 fps= 22 q=29.0 size=    1280kB time=00:00:11.07 bitrate= 946.8kbits/s speed=0.616x    \n",
      "frame=  404 fps= 22 q=29.0 size=    1280kB time=00:00:11.50 bitrate= 911.8kbits/s speed=0.62x    \n",
      "frame=  418 fps= 22 q=29.0 size=    1280kB time=00:00:13.02 bitrate= 805.0kbits/s speed=0.683x    \n",
      "frame=  418 fps= 21 q=-1.0 Lsize=    1612kB time=00:00:13.95 bitrate= 946.0kbits/s speed=0.708x    \n",
      "video:1378kB audio:218kB subtitle:0kB other streams:0kB global headers:0kB muxing overhead: 0.995910%\n",
      "[libx264 @ 000002ABC8A05380] frame I:2     Avg QP:11.03  size: 39843\n",
      "[libx264 @ 000002ABC8A05380] frame P:149   Avg QP:23.82  size:  4583\n",
      "[libx264 @ 000002ABC8A05380] frame B:267   Avg QP:22.18  size:  2427\n",
      "[libx264 @ 000002ABC8A05380] consecutive B-frames:  9.8% 11.0% 12.2% 67.0%\n",
      "[libx264 @ 000002ABC8A05380] mb I  I16..4: 88.5%  8.9%  2.6%\n",
      "[libx264 @ 000002ABC8A05380] mb P  I16..4:  0.3%  0.4%  0.3%  P16..4:  0.6%  0.3%  0.1%  0.0%  0.0%    skip:98.1%\n",
      "[libx264 @ 000002ABC8A05380] mb B  I16..4:  0.1%  0.0%  0.1%  B16..8:  1.1%  0.3%  0.1%  direct: 0.0%  skip:98.3%  L0:49.8% L1:45.1% BI: 5.1%\n",
      "[libx264 @ 000002ABC8A05380] 8x8 transform intra:19.7% inter:44.1%\n",
      "[libx264 @ 000002ABC8A05380] coded y,uvDC,uvAC intra: 11.7% 20.6% 17.4% inter: 0.1% 0.1% 0.1%\n",
      "[libx264 @ 000002ABC8A05380] i16 v,h,dc,p: 70% 29%  1%  0%\n",
      "[libx264 @ 000002ABC8A05380] i8 v,h,dc,ddl,ddr,vr,hd,vl,hu: 25%  7% 65%  1%  0%  0%  0%  0%  1%\n",
      "[libx264 @ 000002ABC8A05380] i4 v,h,dc,ddl,ddr,vr,hd,vl,hu: 29% 24% 30%  3%  2%  3%  3%  3%  3%\n",
      "[libx264 @ 000002ABC8A05380] i8c dc,h,v,p: 62% 27% 11%  0%\n",
      "[libx264 @ 000002ABC8A05380] Weighted P-Frames: Y:0.0% UV:0.0%\n",
      "[libx264 @ 000002ABC8A05380] ref P L0: 64.7%  3.7% 20.1% 11.5%\n",
      "[libx264 @ 000002ABC8A05380] ref B L0: 76.7% 18.3%  5.1%\n",
      "[libx264 @ 000002ABC8A05380] ref B L1: 94.8%  5.2%\n",
      "[libx264 @ 000002ABC8A05380] kb/s:809.83\n",
      "[aac @ 000002ABC8A06CC0] Qavg: 326.475\n"
     ]
    }
   ],
   "source": [
    "!ffmpeg -y -r 30 -f image2 -start_number 0 -s 1920x1080 -i \"./content/frame%03d.png\" -i \"youtube_video_sample_audio_piano_c_major_scale.wav\" -c:v libx264 -pix_fmt yuv420p out_movie.mp4"
   ]
  },
  {
   "cell_type": "code",
   "execution_count": 54,
   "metadata": {},
   "outputs": [
    {
     "name": "stderr",
     "output_type": "stream",
     "text": [
      "ffmpeg version 5.1.2 Copyright (c) 2000-2022 the FFmpeg developers\n",
      "  built with clang version 17.0.1\n",
      "  configuration: --prefix=/d/bld/ffmpeg_1696213838503/_h_env/Library --cc=clang.exe --cxx=clang++.exe --nm=llvm-nm --ar=llvm-ar --disable-doc --disable-openssl --enable-demuxer=dash --enable-hardcoded-tables --enable-libfreetype --enable-libfontconfig --enable-libopenh264 --enable-libdav1d --ld=lld-link --target-os=win64 --enable-cross-compile --toolchain=msvc --host-cc=clang.exe --extra-libs=ucrt.lib --extra-libs=vcruntime.lib --extra-libs=oldnames.lib --strip=llvm-strip --disable-stripping --host-extralibs= --enable-gpl --enable-libx264 --enable-libx265 --enable-libaom --enable-libsvtav1 --enable-libxml2 --enable-pic --enable-shared --disable-static --enable-version3 --enable-zlib --enable-libopus --pkg-config=/d/bld/ffmpeg_1696213838503/_build_env/Library/bin/pkg-config\n",
      "  libavutil      57. 28.100 / 57. 28.100\n",
      "  libavcodec     59. 37.100 / 59. 37.100\n",
      "  libavformat    59. 27.100 / 59. 27.100\n",
      "  libavdevice    59.  7.100 / 59.  7.100\n",
      "  libavfilter     8. 44.100 /  8. 44.100\n",
      "  libswscale      6.  7.100 /  6.  7.100\n",
      "  libswresample   4.  7.100 /  4.  7.100\n",
      "  libpostproc    56.  6.100 / 56.  6.100\n",
      "'./content/frame%03d.png': No such file or directory\n"
     ]
    }
   ],
   "source": [
    "!ffmpeg -start_number 0 -i './content/frame%03d.png' -c:v libx264 'fft_movie/movie.mp4'"
   ]
  },
  {
   "cell_type": "markdown",
   "metadata": {
    "id": "YBbcVFuhHZgP"
   },
   "source": [
    "Download the generated movie."
   ]
  },
  {
   "cell_type": "code",
   "execution_count": null,
   "metadata": {
    "colab": {
     "base_uri": "https://localhost:8080/",
     "height": 17
    },
    "id": "6ohuRzpfLkYg",
    "outputId": "7365d502-1b41-4fc7-c790-116ddcbe3b4e"
   },
   "outputs": [],
   "source": [
    "# from google.colab import files\n",
    "# files.download('movie.mp4')"
   ]
  }
 ],
 "metadata": {
  "colab": {
   "provenance": []
  },
  "kernelspec": {
   "display_name": "Python 3 (ipykernel)",
   "language": "python",
   "name": "python3"
  },
  "language_info": {
   "codemirror_mode": {
    "name": "ipython",
    "version": 3
   },
   "file_extension": ".py",
   "mimetype": "text/x-python",
   "name": "python",
   "nbconvert_exporter": "python",
   "pygments_lexer": "ipython3",
   "version": "3.8.18"
  }
 },
 "nbformat": 4,
 "nbformat_minor": 1
}
